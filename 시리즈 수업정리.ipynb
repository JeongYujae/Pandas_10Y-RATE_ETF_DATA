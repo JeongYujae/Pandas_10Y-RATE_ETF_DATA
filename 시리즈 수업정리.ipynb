{
 "cells": [
  {
   "cell_type": "markdown",
   "metadata": {},
   "source": [
    "### 1.Series"
   ]
  },
  {
   "cell_type": "markdown",
   "metadata": {},
   "source": [
    "pandas type\n",
    "Series- 행이 하나/ 열의 이름: name\n",
    "Dataframe- 행이 여러개/열의 이름: column"
   ]
  },
  {
   "cell_type": "code",
   "execution_count": 6,
   "metadata": {},
   "outputs": [
    {
     "ename": "AttributeError",
     "evalue": "partially initialized module 'pandas' has no attribute 'core' (most likely due to a circular import)",
     "output_type": "error",
     "traceback": [
      "\u001b[1;31m---------------------------------------------------------------------------\u001b[0m",
      "\u001b[1;31mAttributeError\u001b[0m                            Traceback (most recent call last)",
      "\u001b[1;32m~\\AppData\\Local\\Temp/ipykernel_21808/3332754127.py\u001b[0m in \u001b[0;36m<module>\u001b[1;34m\u001b[0m\n\u001b[0;32m      1\u001b[0m \u001b[1;31m#pd.Series() 리스트, 딕셔너리 들어갈 수 있음\u001b[0m\u001b[1;33m\u001b[0m\u001b[1;33m\u001b[0m\u001b[0m\n\u001b[1;32m----> 2\u001b[1;33m \u001b[1;32mimport\u001b[0m \u001b[0mpandas\u001b[0m \u001b[1;32mas\u001b[0m \u001b[0mpd\u001b[0m\u001b[1;33m\u001b[0m\u001b[1;33m\u001b[0m\u001b[0m\n\u001b[0m\u001b[0;32m      3\u001b[0m \u001b[0mlist1\u001b[0m\u001b[1;33m=\u001b[0m\u001b[1;33m[\u001b[0m\u001b[1;36m1\u001b[0m\u001b[1;33m,\u001b[0m\u001b[1;36m2\u001b[0m\u001b[1;33m,\u001b[0m\u001b[1;36m3\u001b[0m\u001b[1;33m,\u001b[0m\u001b[1;36m4\u001b[0m\u001b[1;33m,\u001b[0m\u001b[1;36m5\u001b[0m\u001b[1;33m,\u001b[0m\u001b[1;36m6\u001b[0m\u001b[1;33m]\u001b[0m \u001b[1;31m#리스트는 인덱스가 0부터 임의로\u001b[0m\u001b[1;33m\u001b[0m\u001b[1;33m\u001b[0m\u001b[0m\n\u001b[0;32m      4\u001b[0m \u001b[0ma\u001b[0m\u001b[1;33m=\u001b[0m\u001b[0mpd\u001b[0m\u001b[1;33m.\u001b[0m\u001b[0mSeries\u001b[0m\u001b[1;33m(\u001b[0m\u001b[0mlist1\u001b[0m\u001b[1;33m)\u001b[0m\u001b[1;33m\u001b[0m\u001b[1;33m\u001b[0m\u001b[0m\n\u001b[0;32m      5\u001b[0m \u001b[0ma\u001b[0m\u001b[1;33m.\u001b[0m\u001b[0mname\u001b[0m\u001b[1;33m=\u001b[0m\u001b[1;34m'number'\u001b[0m\u001b[1;33m\u001b[0m\u001b[1;33m\u001b[0m\u001b[0m\n",
      "\u001b[1;32mD:\\Anaconda3\\lib\\site-packages\\pandas\\__init__.py\u001b[0m in \u001b[0;36m<module>\u001b[1;34m\u001b[0m\n\u001b[0;32m    177\u001b[0m \u001b[1;33m\u001b[0m\u001b[0m\n\u001b[0;32m    178\u001b[0m \u001b[1;32mfrom\u001b[0m \u001b[0mpandas\u001b[0m\u001b[1;33m.\u001b[0m\u001b[0mutil\u001b[0m\u001b[1;33m.\u001b[0m\u001b[0m_tester\u001b[0m \u001b[1;32mimport\u001b[0m \u001b[0mtest\u001b[0m\u001b[1;33m\u001b[0m\u001b[1;33m\u001b[0m\u001b[0m\n\u001b[1;32m--> 179\u001b[1;33m \u001b[1;32mimport\u001b[0m \u001b[0mpandas\u001b[0m\u001b[1;33m.\u001b[0m\u001b[0mtesting\u001b[0m\u001b[1;33m\u001b[0m\u001b[1;33m\u001b[0m\u001b[0m\n\u001b[0m\u001b[0;32m    180\u001b[0m \u001b[1;32mimport\u001b[0m \u001b[0mpandas\u001b[0m\u001b[1;33m.\u001b[0m\u001b[0marrays\u001b[0m\u001b[1;33m\u001b[0m\u001b[1;33m\u001b[0m\u001b[0m\n\u001b[0;32m    181\u001b[0m \u001b[1;33m\u001b[0m\u001b[0m\n",
      "\u001b[1;32mD:\\Anaconda3\\lib\\site-packages\\pandas\\testing.py\u001b[0m in \u001b[0;36m<module>\u001b[1;34m\u001b[0m\n\u001b[0;32m      4\u001b[0m \u001b[1;33m\u001b[0m\u001b[0m\n\u001b[0;32m      5\u001b[0m \u001b[1;33m\u001b[0m\u001b[0m\n\u001b[1;32m----> 6\u001b[1;33m from pandas._testing import (\n\u001b[0m\u001b[0;32m      7\u001b[0m     \u001b[0massert_extension_array_equal\u001b[0m\u001b[1;33m,\u001b[0m\u001b[1;33m\u001b[0m\u001b[1;33m\u001b[0m\u001b[0m\n\u001b[0;32m      8\u001b[0m     \u001b[0massert_frame_equal\u001b[0m\u001b[1;33m,\u001b[0m\u001b[1;33m\u001b[0m\u001b[1;33m\u001b[0m\u001b[0m\n",
      "\u001b[1;32mD:\\Anaconda3\\lib\\site-packages\\pandas\\_testing\\__init__.py\u001b[0m in \u001b[0;36m<module>\u001b[1;34m\u001b[0m\n\u001b[0;32m    946\u001b[0m \u001b[1;33m\u001b[0m\u001b[0m\n\u001b[0;32m    947\u001b[0m \u001b[1;33m\u001b[0m\u001b[0m\n\u001b[1;32m--> 948\u001b[1;33m \u001b[0mcython_table\u001b[0m \u001b[1;33m=\u001b[0m \u001b[0mpd\u001b[0m\u001b[1;33m.\u001b[0m\u001b[0mcore\u001b[0m\u001b[1;33m.\u001b[0m\u001b[0mcommon\u001b[0m\u001b[1;33m.\u001b[0m\u001b[0m_cython_table\u001b[0m\u001b[1;33m.\u001b[0m\u001b[0mitems\u001b[0m\u001b[1;33m(\u001b[0m\u001b[1;33m)\u001b[0m\u001b[1;33m\u001b[0m\u001b[1;33m\u001b[0m\u001b[0m\n\u001b[0m\u001b[0;32m    949\u001b[0m \u001b[1;33m\u001b[0m\u001b[0m\n\u001b[0;32m    950\u001b[0m \u001b[1;33m\u001b[0m\u001b[0m\n",
      "\u001b[1;31mAttributeError\u001b[0m: partially initialized module 'pandas' has no attribute 'core' (most likely due to a circular import)"
     ]
    }
   ],
   "source": [
    "#pd.Series() 리스트, 딕셔너리 들어갈 수 있음\n",
    "import pandas as pd\n",
    "list1=[1,2,3,4,5,6] #리스트는 인덱스가 0부터 임의로\n",
    "a=pd.Series(list1)\n",
    "a.name='number'\n",
    "print(a)"
   ]
  },
  {
   "cell_type": "code",
   "execution_count": 7,
   "metadata": {},
   "outputs": [
    {
     "name": "stdout",
     "output_type": "stream",
     "text": [
      "a    1\n",
      "b    2\n",
      "c    3\n",
      "Name: number, dtype: int64\n"
     ]
    }
   ],
   "source": [
    "dic1={'a':1,'b':2,'c':3}\n",
    "b=pd.Series(dic1) #딕셔너리는 인덱스가 key값으로\n",
    "b.name='number'\n",
    "print(b) "
   ]
  },
  {
   "cell_type": "markdown",
   "metadata": {},
   "source": [
    "pd.read_csv()\n",
    "path/index_col/header/squeeze 대부분 사용"
   ]
  },
  {
   "cell_type": "code",
   "execution_count": 20,
   "metadata": {},
   "outputs": [],
   "source": [
    "import pandas as pd\n",
    "path=\"D:\\정유재\\금융데이터 분석을 위한 판다스 활용법\\자료\\Data\\삼성전자 종가.csv\"\n",
    "samsung_price=pd.read_csv(path,index_col=0,squeeze=True,header=0) #index_col: 0번쨰 칼럼의 값이 인덱스가 된다/ #squeeze가 true면 Series 아니면 dataframe/\n",
    "                                                    #header는 csv 제일 위에 date, close가 있으니까 그걸 이 series의 0번 헤더로 지정한다"
   ]
  },
  {
   "cell_type": "markdown",
   "metadata": {},
   "source": [
    "Series index/value\n",
    "-> loc or iloc 를 사용한다"
   ]
  },
  {
   "cell_type": "code",
   "execution_count": 24,
   "metadata": {},
   "outputs": [
    {
     "name": "stdout",
     "output_type": "stream",
     "text": [
      "73800\n"
     ]
    }
   ],
   "source": [
    "#loc: 특정한 인덱스 값을 찾을 떄\n",
    "if '2020-12-15' in samsung_price:\n",
    "    print(samsung_price.loc['2020-12-15'])"
   ]
  },
  {
   "cell_type": "code",
   "execution_count": 25,
   "metadata": {},
   "outputs": [
    {
     "data": {
      "text/plain": [
       "49500"
      ]
     },
     "execution_count": 25,
     "metadata": {},
     "output_type": "execute_result"
    }
   ],
   "source": [
    "#iloc \n",
    "\n",
    "samsung_price.iloc[100] #100번쨰 인덱스 값"
   ]
  },
  {
   "cell_type": "markdown",
   "metadata": {},
   "source": [
    "Series 값에 행을 추가하고 싶을때"
   ]
  },
  {
   "cell_type": "code",
   "execution_count": 5,
   "metadata": {},
   "outputs": [
    {
     "data": {
      "text/plain": [
       "'2021-12-17'"
      ]
     },
     "execution_count": 5,
     "metadata": {},
     "output_type": "execute_result"
    }
   ],
   "source": [
    "import pandas as pd\n",
    "path=\"D:\\정유재\\금융데이터 분석을 위한 판다스 활용법\\자료\\Data\\삼성전자 종가.csv\"\n",
    "samsung_price=pd.read_csv(path,index_col=0,squeeze=True,header=0)\n",
    "samsung_price.index[samsung_price.shape[0]-1]\n",
    "#index의 길이를 찾을 떈 samsung_price.shape/ 값을 원한다면 samsung_price.shape[0]"
   ]
  },
  {
   "cell_type": "code",
   "execution_count": 6,
   "metadata": {},
   "outputs": [
    {
     "name": "stdout",
     "output_type": "stream",
     "text": [
      "Date\n",
      "2018-01-02    51020\n",
      "2018-01-03    51620\n",
      "2018-01-04    51080\n",
      "2018-01-05    52120\n",
      "2018-01-08    52020\n",
      "              ...  \n",
      "2021-12-14    77000\n",
      "2021-12-15    77600\n",
      "2021-12-16    77800\n",
      "2021-12-17    78000\n",
      "2021-12-20    77100\n",
      "Name: Close, Length: 978, dtype: int64\n",
      "Date\n",
      "2018-01-02    51020\n",
      "2018-01-03    51620\n",
      "2018-01-04    51080\n",
      "2018-01-05    52120\n",
      "2018-01-08    52020\n",
      "              ...  \n",
      "2021-12-14    77000\n",
      "2021-12-15    77600\n",
      "2021-12-16        0\n",
      "2021-12-17    78000\n",
      "2021-12-20    77100\n",
      "Name: Close, Length: 978, dtype: int64\n"
     ]
    }
   ],
   "source": [
    "samsung_price['2021-12-20']=77100 #새로운 값 추가하기\n",
    "print(samsung_price)\n",
    "samsung_price.loc['2021-12-16']=0 #값 변경하기/ loc 써도 되고 안써도 되는데 쓰는거 추천\n",
    "print(samsung_price)"
   ]
  },
  {
   "cell_type": "markdown",
   "metadata": {},
   "source": [
    "excel 파일(두 개의 series 연결하기)"
   ]
  },
  {
   "cell_type": "code",
   "execution_count": 7,
   "metadata": {},
   "outputs": [
    {
     "data": {
      "text/plain": [
       "0      51020\n",
       "1      51620\n",
       "2      51080\n",
       "3      52120\n",
       "4      52020\n",
       "       ...  \n",
       "977    77100\n",
       "978    78100\n",
       "979    79400\n",
       "980    79900\n",
       "981    80500\n",
       "Name: Close, Length: 982, dtype: int64"
      ]
     },
     "execution_count": 7,
     "metadata": {},
     "output_type": "execute_result"
    }
   ],
   "source": [
    "import pandas as pd\n",
    "path='D:\\정유재\\금융데이터 분석을 위한 판다스 활용법\\자료\\Data\\samsung_excel.xlsx'\n",
    "sm1=pd.read_excel(path,sheet_name='Sheet1',index_col=0, squeeze=True) #엑셀에서 sheet가 여러개니까 sheet 이름을 저장해준다. 0 1 2 3 or 이름 \n",
    "sm2=pd.read_excel(path,sheet_name='Sheet2',index_col=0, squeeze=True)\n",
    "\n",
    "sm=sm1.append(sm2, ignore_index=True) #ignore index-> 인덱스 이름을 무시하는 거임/ 인덱스 살리고 가고 싶으면 false로 \n",
    "sm\n",
    "\n",
    "\n"
   ]
  },
  {
   "cell_type": "markdown",
   "metadata": {},
   "source": [
    "Series 중에서 가장 큰 작은 값"
   ]
  },
  {
   "cell_type": "code",
   "execution_count": 8,
   "metadata": {},
   "outputs": [
    {
     "data": {
      "text/plain": [
       "count      978.000000\n",
       "mean     57236.554192\n",
       "std      14194.895001\n",
       "min          0.000000\n",
       "25%      46262.500000\n",
       "50%      51300.000000\n",
       "75%      70200.000000\n",
       "max      91000.000000\n",
       "Name: Close, dtype: float64"
      ]
     },
     "execution_count": 8,
     "metadata": {},
     "output_type": "execute_result"
    }
   ],
   "source": [
    "samsung_price.max() #가장 고점\n",
    "samsung_price.min() #가장 저점\n",
    "\n",
    "samsung_price.describe() #이 값 설명해주는거"
   ]
  },
  {
   "cell_type": "code",
   "execution_count": 12,
   "metadata": {},
   "outputs": [
    {
     "data": {
      "text/plain": [
       "'2021-01-11'"
      ]
     },
     "execution_count": 12,
     "metadata": {},
     "output_type": "execute_result"
    }
   ],
   "source": [
    "samsung_price.argmax() #가장 큰 값의 인덱스 값을 나타내는 method/ 몇번쨰에 있다고/  argmin() 도 있겠죠\n",
    "samsung_price.iloc[samsung_price.argmax()] # 가장 큰 값\n",
    "samsung_price.index[samsung_price.argmax()] #가장 큰 값의 인덱스값 그 몇번의 있는거의 index 값이 얼마냐"
   ]
  },
  {
   "cell_type": "markdown",
   "metadata": {},
   "source": [
    "Series 연산/ Series 끼리 사칙연산 가능!"
   ]
  },
  {
   "cell_type": "code",
   "execution_count": 62,
   "metadata": {},
   "outputs": [],
   "source": [
    "import pandas as pd\n",
    "\n",
    "path='D:\\정유재\\금융데이터 분석을 위한 판다스 활용법\\자료\\Data\\삼성전자 종가.csv'\n",
    "samsung_price=pd.read_csv(path, index_col=0,squeeze=True, header=0)\n",
    "samsung_price-samsung_price.shift() # shift() 한칸씩 밀림. ()안에 숫자 넣어서 밀리는 값 조정 가능/ 오늘의 값에서 어제의 값을 빼는 방법\n",
    "samsung_return=(samsung_price-samsung_price.shift())/samsung_price.shift()"
   ]
  },
  {
   "cell_type": "code",
   "execution_count": 64,
   "metadata": {},
   "outputs": [
    {
     "data": {
      "text/plain": [
       "'2020-03-24'"
      ]
     },
     "execution_count": 64,
     "metadata": {},
     "output_type": "execute_result"
    }
   ],
   "source": [
    "samsung_price.pct_change() #수익률 구하는 method\n",
    "samsung_return.index[samsung_return.argmax()] # 수익률이 가장 많이 오른 값의 인덱스(즉 날짜)"
   ]
  },
  {
   "cell_type": "markdown",
   "metadata": {},
   "source": [
    "Nan값 제거하기\n",
    "\n",
    "-Nan하고 다른 값 계산하면 그냥 Nan"
   ]
  },
  {
   "cell_type": "code",
   "execution_count": 65,
   "metadata": {},
   "outputs": [],
   "source": [
    "import pandas as pd\n",
    "\n",
    "path=\"D:\\정유재\\금융데이터 분석을 위한 판다스 활용법\\자료\\Data\\삼성전자 종가.csv\"\n",
    "samsung_price=pd.read_csv(path,index_col=0,squeeze=True,header=0)\n",
    "samsung_return=samsung_price.pct_change()"
   ]
  },
  {
   "cell_type": "code",
   "execution_count": 67,
   "metadata": {},
   "outputs": [
    {
     "data": {
      "text/plain": [
       "Date\n",
       "2018-01-02    1.000000\n",
       "2018-01-03    0.011760\n",
       "2018-01-04   -0.010461\n",
       "2018-01-05    0.020360\n",
       "2018-01-08   -0.001919\n",
       "                ...   \n",
       "2021-12-13   -0.001300\n",
       "2021-12-14    0.002604\n",
       "2021-12-15    0.007792\n",
       "2021-12-16    0.002577\n",
       "2021-12-17    0.002571\n",
       "Name: Close, Length: 977, dtype: float64"
      ]
     },
     "execution_count": 67,
     "metadata": {},
     "output_type": "execute_result"
    }
   ],
   "source": [
    "samsung_return.dropna() #Nan값 drop 하기 그냥 버리기\n",
    "samsung_return.fillna(1) #Nan값 1로 채우기 "
   ]
  },
  {
   "cell_type": "markdown",
   "metadata": {},
   "source": [
    "값 정렬하기\n",
    "sort_values(ascending=True or False)\n",
    "sort_index(ascending= True or False)"
   ]
  },
  {
   "cell_type": "code",
   "execution_count": 14,
   "metadata": {},
   "outputs": [
    {
     "data": {
      "text/plain": [
       "Date\n",
       "2021-01-11    91000\n",
       "2021-01-12    90600\n",
       "2021-01-14    89700\n",
       "2021-01-13    89700\n",
       "2021-01-25    89400\n",
       "              ...  \n",
       "2018-12-27    38250\n",
       "2019-01-08    38100\n",
       "2019-01-03    37600\n",
       "2019-01-04    37450\n",
       "2021-12-16        0\n",
       "Name: Close, Length: 978, dtype: int64"
      ]
     },
     "execution_count": 14,
     "metadata": {},
     "output_type": "execute_result"
    }
   ],
   "source": [
    "#index 순서대로 정렬하기(index-> 날짜 기준)\n",
    "samsung_price.sort_index(ascending=True) #작-> 큰 \n",
    "samsung_price.sort_index(ascending=False) # 큰 ->작\n",
    "#value 순서대로 정렬하기(value -> 값 기준)\n",
    "samsung_price.sort_values(ascending=True) # 작 -> 큰\n",
    "samsung_price.sort_values(ascending=False) # 큰 -> 작"
   ]
  },
  {
   "cell_type": "markdown",
   "metadata": {},
   "source": [
    "특정 조건에 맞는 값을 찾을 떄(조건에 따라 값을 찾기)"
   ]
  },
  {
   "cell_type": "code",
   "execution_count": 16,
   "metadata": {},
   "outputs": [],
   "source": [
    "import pandas as pd\n",
    "import numpy as np\n",
    "path='D:\\정유재\\금융데이터 분석을 위한 판다스 활용법\\자료\\Data\\삼성전자 종가.csv'\n",
    "samsung_price=pd.read_csv(path, index_col=0,squeeze=True, header=0)\n",
    "samsung_price-samsung_price.shift()\n",
    "samsung_return=((samsung_price-samsung_price.shift())/samsung_price.shift())*100 #보기 편하게 100곱해줌\n"
   ]
  },
  {
   "cell_type": "code",
   "execution_count": 18,
   "metadata": {},
   "outputs": [
    {
     "data": {
      "text/plain": [
       "Date\n",
       "2018-03-06     4.026549\n",
       "2018-09-14     4.086266\n",
       "2018-11-02     4.744958\n",
       "2019-03-21     4.086266\n",
       "2020-03-20     5.704307\n",
       "2020-03-24    10.470588\n",
       "2020-04-17     4.897959\n",
       "2020-06-03     6.031128\n",
       "2020-06-16     4.408818\n",
       "2020-07-28     5.395683\n",
       "2020-11-16     4.905063\n",
       "2020-11-23     4.327666\n",
       "2020-12-24     5.277402\n",
       "2021-01-08     7.117008\n",
       "2021-02-25     4.024390\n",
       "2021-11-22     5.196629\n",
       "2021-12-01     4.347826\n",
       "Name: Close, dtype: float64"
      ]
     },
     "execution_count": 18,
     "metadata": {},
     "output_type": "execute_result"
    }
   ],
   "source": [
    "samsung_return.index[samsung_return.values>=4] #index 4% 이상인 것들의 인덱스 값/ 값들을 원하면 values\n",
    "samsung_return[samsung_return.values>=4] #index- value 쭉 볼때"
   ]
  },
  {
   "cell_type": "code",
   "execution_count": 92,
   "metadata": {},
   "outputs": [
    {
     "data": {
      "text/plain": [
       "Date\n",
       "2018-01-02    0\n",
       "2018-01-03    0\n",
       "2018-01-04    0\n",
       "2018-01-05    0\n",
       "2018-01-08    0\n",
       "             ..\n",
       "2021-12-13    0\n",
       "2021-12-14    0\n",
       "2021-12-15    0\n",
       "2021-12-16    0\n",
       "2021-12-17    0\n",
       "Length: 977, dtype: int32"
      ]
     },
     "execution_count": 92,
     "metadata": {},
     "output_type": "execute_result"
    }
   ],
   "source": [
    "np.where(samsung_return.values>=4,1,0) #np.where(조건문,조건에 해당할떄 출력문, 해당하지 않을떄 출력문)\n",
    "\n",
    "samsung_return_over4=pd.Series(np.where(samsung_return.values>=4,'Over 4%','Under'))\n",
    "samsung_return_over4.index=samsung_return.index #인덱스 번호가 0부터 나오니까 기존에 있던 날짜 인덱스로 교체해주기\n",
    "samsung_return_over4"
   ]
  },
  {
   "cell_type": "markdown",
   "metadata": {},
   "source": [
    "Rolling/ Series.rolling(window=days).원하는것\n",
    "mean도 있고 sum도 있고... \n"
   ]
  },
  {
   "cell_type": "code",
   "execution_count": 19,
   "metadata": {},
   "outputs": [],
   "source": [
    "import pandas as pd\n",
    "import numpy as np\n",
    "path='D:\\정유재\\금융데이터 분석을 위한 판다스 활용법\\자료\\Data\\삼성전자 종가.csv'\n",
    "samsung_price=pd.read_csv(path, index_col=0,squeeze=True, header=0)\n",
    "samsung_price-samsung_price.shift()\n",
    "samsung_return=((samsung_price-samsung_price.shift())/samsung_price.shift())*100"
   ]
  },
  {
   "cell_type": "code",
   "execution_count": 20,
   "metadata": {},
   "outputs": [
    {
     "data": {
      "text/plain": [
       "Date\n",
       "2018-01-02             NaN\n",
       "2018-01-03             NaN\n",
       "2018-01-04             NaN\n",
       "2018-01-05             NaN\n",
       "2018-01-08             NaN\n",
       "                  ...     \n",
       "2021-12-13    73090.000000\n",
       "2021-12-14    73273.333333\n",
       "2021-12-15    73513.333333\n",
       "2021-12-16    73753.333333\n",
       "2021-12-17    74013.333333\n",
       "Name: Close, Length: 977, dtype: float64"
      ]
     },
     "execution_count": 20,
     "metadata": {},
     "output_type": "execute_result"
    }
   ],
   "source": [
    "samsung_price.rolling(window=30).mean() #30 이평선"
   ]
  },
  {
   "cell_type": "markdown",
   "metadata": {},
   "source": [
    "데이터의 구간 설정하기\n",
    "\n",
    "pd.cut(series,bins=?) bins의 개수로 구간을 나누기/ ?는 숫자\n",
    "->동일 길이로 나누기\n",
    "\n",
    "pd.qcut(series,?) 동일한 개수로 구간을 나누기/ ?는 숫자\n",
    "-> 동일 개수로 나누기"
   ]
  },
  {
   "cell_type": "code",
   "execution_count": 98,
   "metadata": {},
   "outputs": [],
   "source": [
    "import pandas as pd\n",
    "import numpy as np\n",
    "path='D:\\정유재\\금융데이터 분석을 위한 판다스 활용법\\자료\\Data\\삼성전자 종가.csv'\n",
    "samsung_price=pd.read_csv(path, index_col=0,squeeze=True, header=0)\n",
    "samsung_price-samsung_price.shift()\n",
    "samsung_return=((samsung_price-samsung_price.shift())/samsung_price.shift())*100"
   ]
  },
  {
   "cell_type": "code",
   "execution_count": 24,
   "metadata": {},
   "outputs": [
    {
     "data": {
      "text/plain": [
       "(-1.33, 0.356]      414\n",
       "(0.356, 2.041]      298\n",
       "(-3.016, -1.33]     137\n",
       "(2.041, 3.727]       70\n",
       "(-4.702, -3.016]     31\n",
       "(3.727, 5.413]       19\n",
       "(-6.405, -4.702]      3\n",
       "(5.413, 7.099]        2\n",
       "(7.099, 8.785]        1\n",
       "(8.785, 10.471]       1\n",
       "Name: Close, dtype: int64"
      ]
     },
     "execution_count": 24,
     "metadata": {},
     "output_type": "execute_result"
    }
   ],
   "source": [
    "pd.cut(samsung_return,bins=10)\n",
    "pd.cut(samsung_return,bins=10).value_counts() #벨류 데이터들의 개수 count 해주기"
   ]
  },
  {
   "cell_type": "code",
   "execution_count": 26,
   "metadata": {},
   "outputs": [
    {
     "data": {
      "text/plain": [
       "(-0.332, 0.0]       108\n",
       "(-6.389, -1.938]     98\n",
       "(-1.938, -1.161]     98\n",
       "(-0.702, -0.332]     98\n",
       "(0.753, 1.22]        98\n",
       "(2.003, 10.471]      98\n",
       "(-1.161, -0.702]     97\n",
       "(0.358, 0.753]       97\n",
       "(1.22, 2.003]        97\n",
       "(0.0, 0.358]         87\n",
       "Name: Close, dtype: int64"
      ]
     },
     "execution_count": 26,
     "metadata": {},
     "output_type": "execute_result"
    }
   ],
   "source": [
    "pd.qcut(samsung_return,10).value_counts()"
   ]
  },
  {
   "cell_type": "markdown",
   "metadata": {},
   "source": [
    "서로 다른 길이의 series/ 상관관계를 구해보기"
   ]
  },
  {
   "cell_type": "code",
   "execution_count": 28,
   "metadata": {},
   "outputs": [],
   "source": [
    "import pandas as pd\n",
    "import numpy as np\n",
    "#삼성과 코스피의 인덱스값이 서로 다름. 작은 쪽에 맞추는 방법\n",
    "samsung=pd.read_csv('D:\\정유재\\금융데이터 분석을 위한 판다스 활용법\\자료\\Data\\삼성전자 종가.csv',index_col=0,squeeze=True,header=0)\n",
    "kospi=pd.read_csv('D:\\정유재\\금융데이터 분석을 위한 판다스 활용법\\자료\\Data\\KOSPI.csv',index_col=0,squeeze=True,header=0)\n"
   ]
  },
  {
   "cell_type": "code",
   "execution_count": 30,
   "metadata": {},
   "outputs": [
    {
     "data": {
      "text/plain": [
       "(977,)"
      ]
     },
     "execution_count": 30,
     "metadata": {},
     "output_type": "execute_result"
    }
   ],
   "source": [
    "samsung.shape #shape을 해줘서 데이터 길이 확인"
   ]
  },
  {
   "cell_type": "code",
   "execution_count": 31,
   "metadata": {},
   "outputs": [],
   "source": [
    "samsung.loc['2020-01-02':] #kospi는 2020년 부터라서 데이터의 시작을 맞춰주는 거임\n",
    "samsung=samsung.loc['2020-01-02':] #데이터 덮어씌우기"
   ]
  },
  {
   "cell_type": "code",
   "execution_count": 33,
   "metadata": {},
   "outputs": [
    {
     "data": {
      "text/plain": [
       "Date\n",
       "2020-01-02    55200\n",
       "2020-01-03    55500\n",
       "2020-01-06    55500\n",
       "2020-01-07    55800\n",
       "2020-01-08    56800\n",
       "              ...  \n",
       "2021-12-13    76800\n",
       "2021-12-14    77000\n",
       "2021-12-15    77600\n",
       "2021-12-16    77800\n",
       "2021-12-17    78000\n",
       "Name: Close, Length: 477, dtype: int64"
      ]
     },
     "execution_count": 33,
     "metadata": {},
     "output_type": "execute_result"
    }
   ],
   "source": [
    "samsung_re=samsung.loc[kospi.index] #kospi index로 삼성의 인덱스를 맞추는거 -> kospi에 없는 인덱스 값 제거하면서\n",
    "samsung_re"
   ]
  },
  {
   "cell_type": "code",
   "execution_count": 149,
   "metadata": {},
   "outputs": [
    {
     "data": {
      "text/plain": [
       "array([[1.        , 0.95839711],\n",
       "       [0.95839711, 1.        ]])"
      ]
     },
     "execution_count": 149,
     "metadata": {},
     "output_type": "execute_result"
    }
   ],
   "source": [
    "samsung_re.corr(kospi) #상관 관계 찾기\n",
    "np.corrcoef(samsung_re,kospi) #넘파이로도 가능함\n",
    "# 데이터 시리즈가 다르다면 값을 뺴던가 다른 방법을 찾던가 해야함...!\n",
    "# 데이터 길이를 잘 맞추는게 중요함"
   ]
  }
 ],
 "metadata": {
  "interpreter": {
   "hash": "a8f61be024eba58adef938c9aa1e29e02cb3dece83a5348b1a2dafd16a070453"
  },
  "kernelspec": {
   "display_name": "Python 3.9.7 64-bit ('base': conda)",
   "language": "python",
   "name": "python3"
  },
  "language_info": {
   "codemirror_mode": {
    "name": "ipython",
    "version": 3
   },
   "file_extension": ".py",
   "mimetype": "text/x-python",
   "name": "python",
   "nbconvert_exporter": "python",
   "pygments_lexer": "ipython3",
   "version": "3.9.7"
  },
  "orig_nbformat": 4
 },
 "nbformat": 4,
 "nbformat_minor": 2
}
