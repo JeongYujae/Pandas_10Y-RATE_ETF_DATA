{
 "cells": [
  {
   "cell_type": "markdown",
   "metadata": {},
   "source": [
    "# 금리 인상시기에 가장 많이 오른 섹터/ 가장 많이 떨어진 섹터\n",
    "\n",
    "Recent Issue: 금리 인상 + 인플레이션\n",
    "\n",
    "양적 완화 + 소비의 집중 -> 문을 닫았던 공장들에 과부화를 야기함\n",
    "\n",
    "수요가 쏟아지니까 -> 원자재 값의 상승\n",
    "\n",
    "자산의 가격이 많이 올라감 -> 금리를 인상시켜서 시장의 유동성을 줄여야겠다는 이슈"
   ]
  },
  {
   "cell_type": "code",
   "execution_count": null,
   "metadata": {},
   "outputs": [],
   "source": [
    "import pandas as pd\n",
    "import numpy as np\n",
    "pd.set_option('display.max_columns',None)\n",
    "pd.set_option('display.max_rows',None) \n",
    "\n",
    "y_rate=pd.read_csv('D:\\정유재\\금융데이터 분석을 위한 판다스 활용법\\자료\\Data\\Y Rate.csv',index_col=0)\n",
    "etf=pd.read_csv('D:\\정유재\\금융데이터 분석을 위한 판다스 활용법\\자료\\Data\\KODEX_ETF.csv',index_col=0)\n",
    "period1_yrate=y_rate['2021-05-27':'2021-06-28']  #타겟 구간 설정(금리 인상은 28일이지만 수익률 비교를 위해 27로 설정)\n",
    "period1_etf=etf['2021-05-27':'2021-06-28']\n",
    "pd.to_datetime(period1_yrate.index)\n",
    "pd.to_datetime(period1_etf.index)\n"
   ]
  },
  {
   "cell_type": "code",
   "execution_count": 77,
   "metadata": {},
   "outputs": [
    {
     "data": {
      "text/plain": [
       "[Yield    0.017254\n",
       " Name: KODEX 보험, dtype: float64,\n",
       " Yield   -0.016541\n",
       " Name: KODEX 3대농산물선물(H), dtype: float64]"
      ]
     },
     "execution_count": 77,
     "metadata": {},
     "output_type": "execute_result"
    }
   ],
   "source": [
    "#각각의 섹터별 수익률을 구해야함\n",
    "\n",
    "period1_etf_pct=period1_etf.pct_change()\n",
    "period1_etf.dropna(axis=1) #수익률이 없는 섹터들 없애주기\n",
    "period1_etf_pct.rolling(window=22).mean() #한달 동안의 수익률 평균\n",
    "period1_etf_yield=pd.DataFrame() #새로운 데이터프레임으로 만들기\n",
    "period1_etf_yield['Yield']=period1_etf_pct.loc['2021-06-28'] #2021년 6월 28일에 합계가 정해져 있음\n",
    "period1_etf_yield=period1_etf_yield.dropna() #dropna 해서 nan값 지워주고 \n",
    "period1_etf_yield.iloc[period1_etf_yield.values.argmax()] # 가장 많이 오른 섹터\n",
    "period1_etf_yield.iloc[period1_etf_yield.values.argmin()] # 가장 많이  떨어진 섹터\n",
    "answer=period1_etf_yield.iloc[period1_etf_yield.values.argmax()],period1_etf_yield.iloc[period1_etf_yield.values.argmin()]\n"
   ]
  },
  {
   "cell_type": "markdown",
   "metadata": {},
   "source": [
    "금리 인상 시기(1달로 가정)\n",
    "\n",
    "2021-05-28: 0.5% -> 0.75% 2021-05-28 ~ 2021-06-28\n",
    "\n",
    "2021-11-25 0.75% -> 1% 2021-11-25 ~ 2021-12-25"
   ]
  }
 ],
 "metadata": {
  "interpreter": {
   "hash": "a8f61be024eba58adef938c9aa1e29e02cb3dece83a5348b1a2dafd16a070453"
  },
  "kernelspec": {
   "display_name": "Python 3.9.7 ('base')",
   "language": "python",
   "name": "python3"
  },
  "language_info": {
   "codemirror_mode": {
    "name": "ipython",
    "version": 3
   },
   "file_extension": ".py",
   "mimetype": "text/x-python",
   "name": "python",
   "nbconvert_exporter": "python",
   "pygments_lexer": "ipython3",
   "version": "3.9.7"
  },
  "orig_nbformat": 4
 },
 "nbformat": 4,
 "nbformat_minor": 2
}
